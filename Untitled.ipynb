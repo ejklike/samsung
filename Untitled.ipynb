{
 "cells": [
  {
   "cell_type": "code",
   "execution_count": 1,
   "metadata": {
    "collapsed": true
   },
   "outputs": [],
   "source": [
    "import tensorflow as tf"
   ]
  },
  {
   "cell_type": "code",
   "execution_count": 10,
   "metadata": {},
   "outputs": [],
   "source": [
    "filenames = ['./Drill_train.p']\n",
    "filename_queue = tf.train.string_input_producer(filenames)\n",
    "\n",
    "class CIFAR10Record(object):\n",
    "    pass\n",
    "result = CIFAR10Record()\n",
    "\n",
    "reader = tf.FixedLengthRecordReader(record_bytes=120)\n",
    "result.key, value = reader.read(filename_queue)\n",
    "record_bytes = tf.decode_raw(value, tf.uint8)"
   ]
  },
  {
   "cell_type": "code",
   "execution_count": 11,
   "metadata": {},
   "outputs": [
    {
     "data": {
      "text/plain": [
       "(<tf.Tensor 'ReaderReadV2_2:0' shape=() dtype=string>,\n",
       " <tf.Tensor 'ReaderReadV2_2:1' shape=() dtype=string>)"
      ]
     },
     "execution_count": 11,
     "metadata": {},
     "output_type": "execute_result"
    }
   ],
   "source": [
    "result.key, value"
   ]
  }
 ],
 "metadata": {
  "kernelspec": {
   "display_name": "Python 3",
   "language": "python",
   "name": "python3"
  },
  "language_info": {
   "codemirror_mode": {
    "name": "ipython",
    "version": 3
   },
   "file_extension": ".py",
   "mimetype": "text/x-python",
   "name": "python",
   "nbconvert_exporter": "python",
   "pygments_lexer": "ipython3",
   "version": "3.6.1"
  }
 },
 "nbformat": 4,
 "nbformat_minor": 2
}
